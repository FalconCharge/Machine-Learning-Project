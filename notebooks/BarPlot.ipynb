{
 "cells": [
  {
   "cell_type": "code",
   "execution_count": 1,
   "id": "7a589929-1ac5-413f-bd2e-cc3eaf71ff6c",
   "metadata": {},
   "outputs": [],
   "source": [
    "# Imports\n",
    "import pandas as pd\n",
    "import numpy as np\n",
    "import matplotlib.pyplot as plt\n",
    "import seaborn as sns"
   ]
  },
  {
   "cell_type": "code",
   "execution_count": 2,
   "id": "a1a53437-077e-42ac-b3bb-6c132070c346",
   "metadata": {},
   "outputs": [
    {
     "name": "stdout",
     "output_type": "stream",
     "text": [
      "(649, 34)\n"
     ]
    },
    {
     "data": {
      "text/html": [
       "<div>\n",
       "<style scoped>\n",
       "    .dataframe tbody tr th:only-of-type {\n",
       "        vertical-align: middle;\n",
       "    }\n",
       "\n",
       "    .dataframe tbody tr th {\n",
       "        vertical-align: top;\n",
       "    }\n",
       "\n",
       "    .dataframe thead th {\n",
       "        text-align: right;\n",
       "    }\n",
       "</style>\n",
       "<table border=\"1\" class=\"dataframe\">\n",
       "  <thead>\n",
       "    <tr style=\"text-align: right;\">\n",
       "      <th></th>\n",
       "      <th>school</th>\n",
       "      <th>sex</th>\n",
       "      <th>age</th>\n",
       "      <th>address</th>\n",
       "      <th>famsize</th>\n",
       "      <th>Pstatus</th>\n",
       "      <th>Medu</th>\n",
       "      <th>Fedu</th>\n",
       "      <th>Mjob</th>\n",
       "      <th>Fjob</th>\n",
       "      <th>...</th>\n",
       "      <th>freetime</th>\n",
       "      <th>goout</th>\n",
       "      <th>Dalc</th>\n",
       "      <th>Walc</th>\n",
       "      <th>health</th>\n",
       "      <th>absences</th>\n",
       "      <th>G1</th>\n",
       "      <th>G2</th>\n",
       "      <th>G3</th>\n",
       "      <th>Pass</th>\n",
       "    </tr>\n",
       "  </thead>\n",
       "  <tbody>\n",
       "    <tr>\n",
       "      <th>0</th>\n",
       "      <td>GP</td>\n",
       "      <td>F</td>\n",
       "      <td>18</td>\n",
       "      <td>U</td>\n",
       "      <td>GT3</td>\n",
       "      <td>A</td>\n",
       "      <td>4</td>\n",
       "      <td>4</td>\n",
       "      <td>at_home</td>\n",
       "      <td>teacher</td>\n",
       "      <td>...</td>\n",
       "      <td>3</td>\n",
       "      <td>4</td>\n",
       "      <td>1</td>\n",
       "      <td>1</td>\n",
       "      <td>3</td>\n",
       "      <td>4</td>\n",
       "      <td>0</td>\n",
       "      <td>11</td>\n",
       "      <td>11</td>\n",
       "      <td>Pass</td>\n",
       "    </tr>\n",
       "    <tr>\n",
       "      <th>1</th>\n",
       "      <td>GP</td>\n",
       "      <td>F</td>\n",
       "      <td>17</td>\n",
       "      <td>U</td>\n",
       "      <td>GT3</td>\n",
       "      <td>T</td>\n",
       "      <td>1</td>\n",
       "      <td>1</td>\n",
       "      <td>at_home</td>\n",
       "      <td>other</td>\n",
       "      <td>...</td>\n",
       "      <td>3</td>\n",
       "      <td>3</td>\n",
       "      <td>1</td>\n",
       "      <td>1</td>\n",
       "      <td>3</td>\n",
       "      <td>2</td>\n",
       "      <td>9</td>\n",
       "      <td>11</td>\n",
       "      <td>11</td>\n",
       "      <td>Pass</td>\n",
       "    </tr>\n",
       "    <tr>\n",
       "      <th>2</th>\n",
       "      <td>GP</td>\n",
       "      <td>F</td>\n",
       "      <td>15</td>\n",
       "      <td>U</td>\n",
       "      <td>LE3</td>\n",
       "      <td>T</td>\n",
       "      <td>1</td>\n",
       "      <td>1</td>\n",
       "      <td>at_home</td>\n",
       "      <td>other</td>\n",
       "      <td>...</td>\n",
       "      <td>3</td>\n",
       "      <td>2</td>\n",
       "      <td>2</td>\n",
       "      <td>3</td>\n",
       "      <td>3</td>\n",
       "      <td>6</td>\n",
       "      <td>12</td>\n",
       "      <td>13</td>\n",
       "      <td>12</td>\n",
       "      <td>Pass</td>\n",
       "    </tr>\n",
       "    <tr>\n",
       "      <th>3</th>\n",
       "      <td>GP</td>\n",
       "      <td>F</td>\n",
       "      <td>15</td>\n",
       "      <td>U</td>\n",
       "      <td>GT3</td>\n",
       "      <td>T</td>\n",
       "      <td>4</td>\n",
       "      <td>2</td>\n",
       "      <td>health</td>\n",
       "      <td>services</td>\n",
       "      <td>...</td>\n",
       "      <td>2</td>\n",
       "      <td>2</td>\n",
       "      <td>1</td>\n",
       "      <td>1</td>\n",
       "      <td>5</td>\n",
       "      <td>0</td>\n",
       "      <td>14</td>\n",
       "      <td>14</td>\n",
       "      <td>14</td>\n",
       "      <td>Pass</td>\n",
       "    </tr>\n",
       "    <tr>\n",
       "      <th>4</th>\n",
       "      <td>GP</td>\n",
       "      <td>F</td>\n",
       "      <td>16</td>\n",
       "      <td>U</td>\n",
       "      <td>GT3</td>\n",
       "      <td>T</td>\n",
       "      <td>3</td>\n",
       "      <td>3</td>\n",
       "      <td>other</td>\n",
       "      <td>other</td>\n",
       "      <td>...</td>\n",
       "      <td>3</td>\n",
       "      <td>2</td>\n",
       "      <td>1</td>\n",
       "      <td>2</td>\n",
       "      <td>5</td>\n",
       "      <td>0</td>\n",
       "      <td>11</td>\n",
       "      <td>13</td>\n",
       "      <td>13</td>\n",
       "      <td>Pass</td>\n",
       "    </tr>\n",
       "  </tbody>\n",
       "</table>\n",
       "<p>5 rows × 34 columns</p>\n",
       "</div>"
      ],
      "text/plain": [
       "  school sex  age address famsize Pstatus  Medu  Fedu     Mjob      Fjob  ...  \\\n",
       "0     GP   F   18       U     GT3       A     4     4  at_home   teacher  ...   \n",
       "1     GP   F   17       U     GT3       T     1     1  at_home     other  ...   \n",
       "2     GP   F   15       U     LE3       T     1     1  at_home     other  ...   \n",
       "3     GP   F   15       U     GT3       T     4     2   health  services  ...   \n",
       "4     GP   F   16       U     GT3       T     3     3    other     other  ...   \n",
       "\n",
       "  freetime goout  Dalc  Walc  health absences  G1  G2  G3  Pass  \n",
       "0        3     4     1     1       3        4   0  11  11  Pass  \n",
       "1        3     3     1     1       3        2   9  11  11  Pass  \n",
       "2        3     2     2     3       3        6  12  13  12  Pass  \n",
       "3        2     2     1     1       5        0  14  14  14  Pass  \n",
       "4        3     2     1     2       5        0  11  13  13  Pass  \n",
       "\n",
       "[5 rows x 34 columns]"
      ]
     },
     "execution_count": 2,
     "metadata": {},
     "output_type": "execute_result"
    }
   ],
   "source": [
    "# Loading the dataSet\n",
    "df = pd.read_csv(\"../data/Raw/student-por.csv\", delimiter=';')\n",
    "\n",
    "\n",
    "# Create the pass/Fail column\n",
    "df['Pass'] = np.where(df['G3'] >= 10, 'Pass', 'Fail')\n",
    "\n",
    "# Display the information\n",
    "print(df.shape)\n",
    "df.head()\n",
    "# You'll only see a fail for df.head(20)"
   ]
  },
  {
   "cell_type": "code",
   "execution_count": 5,
   "id": "a97ef3ee-9c12-4a2a-bb30-ccf3e0be5ff5",
   "metadata": {
    "scrolled": true
   },
   "outputs": [
    {
     "name": "stdout",
     "output_type": "stream",
     "text": [
      "Class Distribution:\n",
      "Pass: 549 (84.59%)\n",
      "Fail: 100 (15.41%)\n"
     ]
    },
    {
     "data": {
      "image/png": "[encoded data removed]",
      "text/plain": [
       "<Figure size 600x400 with 1 Axes>"
      ]
     },
     "metadata": {},
     "output_type": "display_data"
    }
   ],
   "source": [
    "class_counts = df['Pass'].value_counts()\n",
    "class_percent = df['Pass'].value_counts(normalize=True) * 100\n",
    "\n",
    "plt.figure(figsize=(6, 4))\n",
    "\n",
    "palette = {'Pass': 'green', 'Fail': 'red'}\n",
    "\n",
    "class_counts = df['Pass'].value_counts()\n",
    "class_percent = df['Pass'].value_counts(normalize=True) * 100\n",
    "\n",
    "print(\"Class Distribution:\")\n",
    "for label in class_counts.index:\n",
    "    print(f\"{label}: {class_counts[label]} ({class_percent[label]:.2f}%)\")\n",
    "    \n",
    "sns.barplot(x=class_counts.index, y=class_counts.values, hue=class_counts.index, palette=palette, legend=False)\n",
    "\n",
    "plt.title(\"Class Distribution: Pass Vs Fail\", fontsize=14)\n",
    "plt.xlabel(\"Class\")\n",
    "plt.ylabel(\"Number Of Students\")\n",
    "plt.tight_layout()\n",
    "plt.show()"
   ]
  },
  {
   "cell_type": "markdown",
   "id": "65753585-d8a8-4c3b-be1b-25a3b7a31ce7",
   "metadata": {},
   "source": [
    "This show's that that the class distribution is vastly differt.\n",
    "- Inturn this proves that the dataset is inbalanced.\n",
    "- We will also be needing the use of F1-score to help to ensure fair evaluation"
   ]
  },
  {
   "cell_type": "code",
   "execution_count": 42,
   "id": "5c577c92-1849-4f03-b86d-309c9eef3003",
   "metadata": {},
   "outputs": [
    {
     "name": "stdout",
     "output_type": "stream",
     "text": [
      "(130, 45)\n",
      "Class Distribution:\n",
      "1: 110 (84.62%)\n",
      "0: 20 (15.38%)\n"
     ]
    },
    {
     "data": {
      "image/png": "[encoded data removed]",
      "text/plain": [
       "<Figure size 300x300 with 1 Axes>"
      ]
     },
     "metadata": {},
     "output_type": "display_data"
    }
   ],
   "source": [
    "df = pd.read_csv(\"../data/processed/splits/test_classification.csv\", delimiter=',')\n",
    "\n",
    "print(df.shape)\n",
    "df.head()\n",
    "\n",
    "class_counts = df['Pass'].value_counts()\n",
    "class_percent = df['Pass'].value_counts(normalize=True) * 100\n",
    "\n",
    "plt.figure(figsize=(3, 3))\n",
    "\n",
    "palette = {1: 'green', 0: 'red'}\n",
    "\n",
    "class_counts = df['Pass'].value_counts()\n",
    "class_percent = df['Pass'].value_counts(normalize=True) * 100\n",
    "\n",
    "print(\"Class Distribution:\")\n",
    "for label in class_counts.index:\n",
    "    print(f\"{label}: {class_counts[label]} ({class_percent[label]:.2f}%)\")\n",
    "    \n",
    "sns.barplot(x=class_counts.index, y=class_counts.values, hue=class_counts.index, palette=palette, legend=False)\n",
    "\n",
    "plt.title(\"Class Distribution: Pass Vs Fail\", fontsize=14)\n",
    "plt.xlabel(\"Class\")\n",
    "plt.ylabel(\"Number Of Students\")\n",
    "plt.tight_layout()\n",
    "plt.show()"
   ]
  },
  {
   "cell_type": "code",
   "execution_count": 43,
   "id": "ab0dbf6e-3e90-4b9a-9e78-3ec42336f29d",
   "metadata": {},
   "outputs": [
    {
     "name": "stdout",
     "output_type": "stream",
     "text": [
      "(416, 45)\n",
      "Class Distribution:\n",
      "1: 352 (84.62%)\n",
      "0: 64 (15.38%)\n"
     ]
    },
    {
     "data": {
      "image/png": "[encoded data removed]",
      "text/plain": [
       "<Figure size 300x300 with 1 Axes>"
      ]
     },
     "metadata": {},
     "output_type": "display_data"
    }
   ],
   "source": [
    "df = pd.read_csv(\"../data/processed/splits/train_classification.csv\", delimiter=',')\n",
    "\n",
    "print(df.shape)\n",
    "df.head()\n",
    "\n",
    "class_counts = df['Pass'].value_counts()\n",
    "class_percent = df['Pass'].value_counts(normalize=True) * 100\n",
    "\n",
    "plt.figure(figsize=(3, 3))\n",
    "\n",
    "palette = {1: 'green', 0: 'red'}\n",
    "\n",
    "class_counts = df['Pass'].value_counts()\n",
    "class_percent = df['Pass'].value_counts(normalize=True) * 100\n",
    "\n",
    "print(\"Class Distribution:\")\n",
    "for label in class_counts.index:\n",
    "    print(f\"{label}: {class_counts[label]} ({class_percent[label]:.2f}%)\")\n",
    "    \n",
    "sns.barplot(x=class_counts.index, y=class_counts.values, hue=class_counts.index, palette=palette, legend=False)\n",
    "\n",
    "plt.title(\"Class Distribution: Pass Vs Fail\", fontsize=14)\n",
    "plt.xlabel(\"Class\")\n",
    "plt.ylabel(\"Number Of Students\")\n",
    "plt.tight_layout()\n",
    "plt.show()"
   ]
  },
  {
   "cell_type": "code",
   "execution_count": 44,
   "id": "c5790c60-1a52-4470-be55-79c07686f503",
   "metadata": {},
   "outputs": [
    {
     "name": "stdout",
     "output_type": "stream",
     "text": [
      "(103, 45)\n",
      "Class Distribution:\n",
      "1: 87 (84.47%)\n",
      "0: 16 (15.53%)\n"
     ]
    },
    {
     "data": {
      "image/png": "[encoded data removed]",
      "text/plain": [
       "<Figure size 300x300 with 1 Axes>"
      ]
     },
     "metadata": {},
     "output_type": "display_data"
    }
   ],
   "source": [
    "df = pd.read_csv(\"../data/processed/splits/val_classification.csv\", delimiter=',')\n",
    "\n",
    "print(df.shape)\n",
    "df.head()\n",
    "\n",
    "class_counts = df['Pass'].value_counts()\n",
    "class_percent = df['Pass'].value_counts(normalize=True) * 100\n",
    "\n",
    "plt.figure(figsize=(3, 3))\n",
    "\n",
    "palette = {1: 'green', 0: 'red'}\n",
    "\n",
    "class_counts = df['Pass'].value_counts()\n",
    "class_percent = df['Pass'].value_counts(normalize=True) * 100\n",
    "\n",
    "print(\"Class Distribution:\")\n",
    "for label in class_counts.index:\n",
    "    print(f\"{label}: {class_counts[label]} ({class_percent[label]:.2f}%)\")\n",
    "    \n",
    "sns.barplot(x=class_counts.index, y=class_counts.values, hue=class_counts.index, palette=palette, legend=False)\n",
    "\n",
    "plt.title(\"Class Distribution: Pass Vs Fail\", fontsize=14)\n",
    "plt.xlabel(\"Class\")\n",
    "plt.ylabel(\"Number Of Students\")\n",
    "plt.tight_layout()\n",
    "plt.show()"
   ]
  },
  {
   "cell_type": "code",
   "execution_count": 41,
   "id": "f43eb282-9c20-49a8-989c-ee11b87824bb",
   "metadata": {},
   "outputs": [
    {
     "name": "stdout",
     "output_type": "stream",
     "text": [
      "(416, 45)\n",
      "Class Distribution:\n",
      "1: 350 (84.13%)\n",
      "0: 66 (15.87%)\n"
     ]
    },
    {
     "data": {
      "image/png": "[encoded data removed]",
      "text/plain": [
       "<Figure size 300x300 with 1 Axes>"
      ]
     },
     "metadata": {},
     "output_type": "display_data"
    }
   ],
   "source": [
    "df = pd.read_csv(\"../data/processed/splits/train_regression.csv\", delimiter=',')\n",
    "\n",
    "print(df.shape)\n",
    "df.head()\n",
    "\n",
    "class_counts = df['Pass'].value_counts()\n",
    "class_percent = df['Pass'].value_counts(normalize=True) * 100\n",
    "\n",
    "plt.figure(figsize=(3, 3))\n",
    "\n",
    "palette = {1: 'green', 0: 'red'}\n",
    "\n",
    "class_counts = df['Pass'].value_counts()\n",
    "class_percent = df['Pass'].value_counts(normalize=True) * 100\n",
    "\n",
    "print(\"Class Distribution:\")\n",
    "for label in class_counts.index:\n",
    "    print(f\"{label}: {class_counts[label]} ({class_percent[label]:.2f}%)\")\n",
    "    \n",
    "sns.barplot(x=class_counts.index, y=class_counts.values, hue=class_counts.index, palette=palette, legend=False)\n",
    "\n",
    "plt.title(\"Class Distribution: Pass Vs Fail\", fontsize=14)\n",
    "plt.xlabel(\"Class\")\n",
    "plt.ylabel(\"Number Of Students\")\n",
    "plt.tight_layout()\n",
    "plt.show()"
   ]
  },
  {
   "cell_type": "code",
   "execution_count": null,
   "id": "6a6e8eba-34f5-4763-96b5-1d1ccf751b1b",
   "metadata": {},
   "outputs": [],
   "source": []
  }
 ],
 "metadata": {
  "kernelspec": {
   "display_name": "Python 3 (ipykernel)",
   "language": "python",
   "name": "python3"
  },
  "language_info": {
   "codemirror_mode": {
    "name": "ipython",
    "version": 3
   },
   "file_extension": ".py",
   "mimetype": "text/x-python",
   "name": "python",
   "nbconvert_exporter": "python",
   "pygments_lexer": "ipython3",
   "version": "3.13.0"
  }
 },
 "nbformat": 4,
 "nbformat_minor": 5
}
